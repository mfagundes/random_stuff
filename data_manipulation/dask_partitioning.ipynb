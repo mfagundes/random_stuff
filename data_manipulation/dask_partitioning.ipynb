{
 "cells": [
  {
   "cell_type": "markdown",
   "source": [
    "# Leitura e particionamento de dados com Dask\n",
    "\n",
    "Exemplo de leitura de arquivo `csv` e particionamento usando `Dask`, seja no formato `Parquet` ou em `csv`. Usei este exemplo para adequar melhor à [Base dos Dados](https://basedosdados.org)\n",
    "\n",
    "Originalmente este arquivo foi criado para refatoração dos dados do [Comex Stats](http://comexstat.mdic.gov.br/pt/home)"
   ],
   "metadata": {
    "collapsed": false,
    "pycharm": {
     "name": "#%% md\n"
    }
   }
  },
  {
   "cell_type": "code",
   "execution_count": null,
   "outputs": [],
   "source": [
    "import pandas as pd\n",
    "import dask.dataframe as dd\n",
    "\n",
    "from pathlib import Path"
   ],
   "metadata": {
    "collapsed": false,
    "pycharm": {
     "name": "#%%\n"
    }
   }
  },
  {
   "cell_type": "code",
   "execution_count": null,
   "outputs": [],
   "source": [
    "df_dd = dd.read_csv('nome_do_arquivo.csv', sep=\";\")"
   ],
   "metadata": {
    "collapsed": false,
    "pycharm": {
     "name": "#%%\n"
    }
   }
  },
  {
   "cell_type": "code",
   "execution_count": null,
   "outputs": [],
   "source": [
    "df_dd.npartitions"
   ],
   "metadata": {
    "collapsed": false,
    "pycharm": {
     "name": "#%%\n"
    }
   }
  },
  {
   "cell_type": "code",
   "execution_count": null,
   "outputs": [],
   "source": [
    "df_dd._meta_nonempty"
   ],
   "metadata": {
    "collapsed": false,
    "pycharm": {
     "name": "#%%\n"
    }
   }
  },
  {
   "cell_type": "code",
   "execution_count": null,
   "outputs": [],
   "source": [
    "df_dd._meta.dtypes"
   ],
   "metadata": {
    "collapsed": false,
    "pycharm": {
     "name": "#%%\n"
    }
   }
  },
  {
   "cell_type": "markdown",
   "source": [
    "## Manipulação do arquivo"
   ],
   "metadata": {
    "collapsed": false,
    "pycharm": {
     "name": "#%% md\n"
    }
   }
  },
  {
   "cell_type": "code",
   "execution_count": null,
   "outputs": [],
   "source": [
    "# o arquivo utilizado aqui era muito grande, mas era necessário usá-lo. Posteriormente inserirei um arquivo menor e mais útil para este exemplo\n",
    "rename_ncm = {\n",
    "    \"CO_ANO\": \"ano\",\n",
    "    \"CO_MES\": \"mes\",\n",
    "    \"CO_NCM\": \"id_ncm\",\n",
    "    \"CO_UNID\": \"id_unidade\",\n",
    "    \"CO_PAIS\": \"id_pais\",\n",
    "    \"SG_UF_NCM\": \"sigla_uf\",\n",
    "    \"CO_VIA\": \"id_via\",\n",
    "    \"CO_URF\": \"id_urf\",\n",
    "    \"QT_ESTAT\": \"quantidade_estatistica\",\n",
    "    \"KG_LIQUIDO\": \"peso_liquido_kg\",\n",
    "    \"VL_FOB\": \"valor_fob_dolar\",\n",
    "    \"VL_FRETE\": \"valor_frete\",\n",
    "    \"VL_SEGURO\": \"valor_seguro\",\n",
    "}"
   ],
   "metadata": {
    "collapsed": false,
    "pycharm": {
     "name": "#%%\n",
     "is_executing": true
    }
   }
  },
  {
   "cell_type": "code",
   "execution_count": null,
   "outputs": [],
   "source": [
    "# No Dask o rename não possui a flag inplace\n",
    "df_dd = df_dd.rename(columns=rename_ncm)"
   ],
   "metadata": {
    "collapsed": false,
    "pycharm": {
     "name": "#%%\n"
    }
   }
  },
  {
   "cell_type": "markdown",
   "source": [
    "## Parquet\n",
    "\n",
    "Os arquivos parquet são particionados conforme uma função de nome dos mesmos. Estes precisam ter nomes únicos. Importante ressaltar que dentro das partições manuais o Dask particionará conforme sua configuração. Isso ainda precisa ser melhorado aqui."
   ],
   "metadata": {
    "collapsed": false,
    "pycharm": {
     "name": "#%% md\n"
    }
   }
  },
  {
   "cell_type": "code",
   "execution_count": null,
   "outputs": [],
   "source": [
    "# para nomear as partições\n",
    "def name_func(x):\n",
    "    return f\"nome_particao{x}.parquet\""
   ],
   "metadata": {
    "collapsed": false,
    "pycharm": {
     "name": "#%%\n"
    }
   }
  },
  {
   "cell_type": "code",
   "execution_count": null,
   "outputs": [],
   "source": [
    "# exemplos de partição baseados na BD\n",
    "out_path = Path('data_pq')\n",
    "df_dd.to_parquet(out_path, partition_on=[\"ano\", \"mes\", \"sigla_uf\"], name_function=name_func)"
   ],
   "metadata": {
    "collapsed": false,
    "pycharm": {
     "name": "#%%\n"
    }
   }
  },
  {
   "cell_type": "markdown",
   "source": [
    "## CSV\n",
    "\n",
    "Todo o controle de particionamento cabe ao usuário. Aqui usei uma função para controlar e salvar os arquivos particionados (`write_file`). O resultado é de um `group_by` com `apply`. Também precisa ser melhorado."
   ],
   "metadata": {
    "collapsed": false,
    "pycharm": {
     "name": "#%% md\n"
    }
   }
  },
  {
   "cell_type": "code",
   "execution_count": null,
   "outputs": [],
   "source": [
    "data_dir = Path(\"data_csv\")\n",
    "if not data_dir.is_dir():\n",
    "    data_dir.mkdir(parents=True, exist_ok=False)\n",
    "\n",
    "def write_file(grp):\n",
    "    out_path = Path(f\"{data_dir}/ano={grp['ano'].unique()[0]}/mes={grp['mes'].unique()[0]}/sigla_uf={grp['sigla_uf'].unique()[0]}\")\n",
    "    if not out_path.is_dir():\n",
    "        out_path.mkdir(parents=True, exist_ok=True)\n",
    "    grp.to_csv(out_path / \"arquivo.csv\",\n",
    "               header=True,\n",
    "               index=False)\n",
    "    return None"
   ],
   "metadata": {
    "collapsed": false,
    "pycharm": {
     "name": "#%%\n"
    }
   }
  },
  {
   "cell_type": "code",
   "execution_count": null,
   "outputs": [],
   "source": [
    "df_dd.groupby(\n",
    "    [\"ano\", \"mes\", \"sigla_uf\"]\n",
    ").apply(\n",
    "    write_file, meta={'ano': int, 'mes': int}\n",
    ").compute()"
   ],
   "metadata": {
    "collapsed": false,
    "pycharm": {
     "name": "#%%\n"
    }
   }
  }
 ],
 "metadata": {
  "kernelspec": {
   "display_name": "Python 3",
   "language": "python",
   "name": "python3"
  },
  "language_info": {
   "codemirror_mode": {
    "name": "ipython",
    "version": 2
   },
   "file_extension": ".py",
   "mimetype": "text/x-python",
   "name": "python",
   "nbconvert_exporter": "python",
   "pygments_lexer": "ipython2",
   "version": "2.7.6"
  }
 },
 "nbformat": 4,
 "nbformat_minor": 0
}